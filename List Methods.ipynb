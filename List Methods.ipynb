{
 "cells": [
  {
   "cell_type": "markdown",
   "metadata": {},
   "source": [
    "\n",
    "#  Methods Of List\n",
    "--------------------------------"
   ]
  },
  {
   "cell_type": "raw",
   "metadata": {},
   "source": [
    " All Methods of List practice Assignment"
   ]
  },
  {
   "cell_type": "code",
   "execution_count": 1,
   "metadata": {},
   "outputs": [
    {
     "data": {
      "text/plain": [
       "['__add__',\n",
       " '__class__',\n",
       " '__contains__',\n",
       " '__delattr__',\n",
       " '__delitem__',\n",
       " '__dir__',\n",
       " '__doc__',\n",
       " '__eq__',\n",
       " '__format__',\n",
       " '__ge__',\n",
       " '__getattribute__',\n",
       " '__getitem__',\n",
       " '__gt__',\n",
       " '__hash__',\n",
       " '__iadd__',\n",
       " '__imul__',\n",
       " '__init__',\n",
       " '__init_subclass__',\n",
       " '__iter__',\n",
       " '__le__',\n",
       " '__len__',\n",
       " '__lt__',\n",
       " '__mul__',\n",
       " '__ne__',\n",
       " '__new__',\n",
       " '__reduce__',\n",
       " '__reduce_ex__',\n",
       " '__repr__',\n",
       " '__reversed__',\n",
       " '__rmul__',\n",
       " '__setattr__',\n",
       " '__setitem__',\n",
       " '__sizeof__',\n",
       " '__str__',\n",
       " '__subclasshook__',\n",
       " 'append',\n",
       " 'clear',\n",
       " 'copy',\n",
       " 'count',\n",
       " 'extend',\n",
       " 'index',\n",
       " 'insert',\n",
       " 'pop',\n",
       " 'remove',\n",
       " 'reverse',\n",
       " 'sort']"
      ]
     },
     "execution_count": 1,
     "metadata": {},
     "output_type": "execute_result"
    }
   ],
   "source": [
    "names = [\"Hadi\", \" Abbas\", \"Waqas\", \"Saad\", \"Khalil\"]\n",
    "dir(names)"
   ]
  },
  {
   "cell_type": "code",
   "execution_count": 7,
   "metadata": {},
   "outputs": [
    {
     "name": "stdout",
     "output_type": "stream",
     "text": [
      "['Hadi', ' Abbas', 'Waqas', 'Saad', 'Khalil']\n",
      "***********************************************\n",
      "['Hadi', ' Abbas', 'Waqas', 'Saad', 'Khalil', 'Waqas']\n"
     ]
    }
   ],
   "source": [
    "# --.append() method-1\n",
    "names = [\"Hadi\", \" Abbas\", \"Waqas\", \"Saad\", \"Khalil\"]\n",
    "print(names)\n",
    "# The list permanently change. \n",
    "# Is an in-memory change.\n",
    "\n",
    "\n",
    "print(\"***********************************************\")\n",
    "\n",
    "\n",
    "names.append(\"Waqas\")  # adds new item to the list at the end.\n",
    "print(names)"
   ]
  },
  {
   "cell_type": "code",
   "execution_count": 8,
   "metadata": {},
   "outputs": [
    {
     "name": "stdout",
     "output_type": "stream",
     "text": [
      "['Hadi', ' Abbas', 'Waqas', 'Saad', 'Khalil']\n",
      "***************************************************\n",
      "[]\n"
     ]
    }
   ],
   "source": [
    "#   .clear() \n",
    "#   method-2\n",
    "\n",
    "# Empties a list. \n",
    "# Change is permanent. \n",
    "# Is in-memory action.\n",
    "\n",
    "names = [\"Hadi\", \" Abbas\", \"Waqas\", \"Saad\", \"Khalil\"]\n",
    "print(names)\n",
    "print(\"***************************************************\")\n",
    "names.clear() # removes all objects in the list\n",
    "print(names)"
   ]
  },
  {
   "cell_type": "code",
   "execution_count": 11,
   "metadata": {},
   "outputs": [
    {
     "name": "stdout",
     "output_type": "stream",
     "text": [
      "['Hadi', ' Abbas', 'Waqas', 'Saad', 'Khalil']\n",
      "***************************************************\n"
     ]
    },
    {
     "data": {
      "text/plain": [
       "['Hadi', ' Abbas', 'Waqas', 'Saad', 'Khalil']"
      ]
     },
     "execution_count": 11,
     "metadata": {},
     "output_type": "execute_result"
    }
   ],
   "source": [
    "# .copy() method-3\n",
    "# Makes a shallow copy of list.\n",
    "names = [\"Hadi\", \" Abbas\", \"Waqas\", \"Saad\", \"Khalil\"]\n",
    "print(names)\n",
    "print(\"***************************************************\")\n",
    "names.copy()\n"
   ]
  },
  {
   "cell_type": "code",
   "execution_count": 16,
   "metadata": {},
   "outputs": [
    {
     "name": "stdout",
     "output_type": "stream",
     "text": [
      "['Hadi', ' Abbas', 'Waqas', 'Saad', 'Khalil']\n",
      "***************************************************\n",
      "1\n"
     ]
    }
   ],
   "source": [
    "#.count() method-4\n",
    "# Counts numbers of objects appears in  list.\n",
    "names = [\"Hadi\", \" Abbas\", \"Waqas\", \"Saad\", \"Khalil\"]\n",
    "print(names)\n",
    "print(\"***************************************************\")\n",
    "print(names.count(\"Hadi\"))"
   ]
  },
  {
   "cell_type": "code",
   "execution_count": 17,
   "metadata": {},
   "outputs": [
    {
     "name": "stdout",
     "output_type": "stream",
     "text": [
      "['Hadi', ' Abbas', 'Waqas', 'Saad', 'Khalil']\n",
      "***************************************************\n",
      "['Hadi', ' Abbas', 'Waqas', 'Saad', 'Khalil', 'Asad', 'Umar', 'Amjad', 'Alli', 'Khubab']\n"
     ]
    }
   ],
   "source": [
    "#.extend() method-5\n",
    "\n",
    "\n",
    "# it extends the list by joining another list whose identifier is passed as argumnet to extend() method.\n",
    "names = [\"Hadi\", \" Abbas\", \"Waqas\", \"Saad\", \"Khalil\"]\n",
    "names_2=[\"Asad\", \"Umar\"  , \"Amjad\", \"Alli\", \"Khubab\"]\n",
    "print(names)\n",
    "print(\"***************************************************\")\n",
    "names.extend(names_2)\n",
    "print(names)"
   ]
  },
  {
   "cell_type": "code",
   "execution_count": 19,
   "metadata": {},
   "outputs": [
    {
     "name": "stdout",
     "output_type": "stream",
     "text": [
      "['Hadi', ' Abbas', 'Waqas', 'Saad', 'Khalil']\n",
      "***************************************************\n",
      "['Hadi', ' Abbas', 'Waqas', 'Saad', 'Khalil']\n"
     ]
    }
   ],
   "source": [
    "# .index() method-6\n",
    "names = [\"Hadi\", \" Abbas\", \"Waqas\", \"Saad\", \"Khalil\"]\n",
    "print(names)\n",
    "print(\"***************************************************\")\n",
    "names.index('Hadi')\n",
    "print(names)"
   ]
  },
  {
   "cell_type": "code",
   "execution_count": null,
   "metadata": {},
   "outputs": [],
   "source": []
  }
 ],
 "metadata": {
  "kernelspec": {
   "display_name": "Python 3",
   "language": "python",
   "name": "python3"
  },
  "language_info": {
   "codemirror_mode": {
    "name": "ipython",
    "version": 3
   },
   "file_extension": ".py",
   "mimetype": "text/x-python",
   "name": "python",
   "nbconvert_exporter": "python",
   "pygments_lexer": "ipython3",
   "version": "3.7.4"
  }
 },
 "nbformat": 4,
 "nbformat_minor": 2
}
