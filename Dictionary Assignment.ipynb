{
 "cells": [
  {
   "cell_type": "markdown",
   "metadata": {},
   "source": [
    "# Dictionary Tasks"
   ]
  },
  {
   "cell_type": "markdown",
   "metadata": {},
   "source": [
    "# Task # 1"
   ]
  },
  {
   "cell_type": "raw",
   "metadata": {},
   "source": [
    "Python Program to Add a Key-Value Pair to the Dictionary"
   ]
  },
  {
   "cell_type": "code",
   "execution_count": 1,
   "metadata": {},
   "outputs": [
    {
     "name": "stdout",
     "output_type": "stream",
     "text": [
      " key (digit) to be added:12\n",
      "Enter the value for the key to be added56\n",
      "Updated Dictionary is:\n",
      "{12: 56}\n"
     ]
    }
   ],
   "source": [
    "key = int(input(\" key (digit) to be added:\"))\n",
    "value = int(input(\" value for  key to be added\"))\n",
    "dic = {}\n",
    "dic.update({key:value})\n",
    "print(\"Updated Dictionary:\")\n",
    "print(dic)\n"
   ]
  },
  {
   "cell_type": "markdown",
   "metadata": {},
   "source": [
    "# Task # 2\n"
   ]
  },
  {
   "cell_type": "raw",
   "metadata": {},
   "source": [
    "Python Program to Concatenate Two Dictionaries into One"
   ]
  },
  {
   "cell_type": "code",
   "execution_count": 2,
   "metadata": {},
   "outputs": [
    {
     "name": "stdout",
     "output_type": "stream",
     "text": [
      "Concatenate Dictionary:\n",
      "{'X': 5, 'Y': 8, 'U': 7, 'V': 6}\n"
     ]
    }
   ],
   "source": [
    "Dictionary1 = {\"X\":5 , \"Y\":8}\n",
    "Dictionary2 = {\"U\":7 , \"V\":6}\n",
    "Dictionary1.update(Dictionary2)\n",
    "print(\"Concatenate Dictionary:\")\n",
    "print(Dictionary1)"
   ]
  },
  {
   "cell_type": "markdown",
   "metadata": {},
   "source": [
    "# Task # 3\n"
   ]
  },
  {
   "cell_type": "raw",
   "metadata": {},
   "source": [
    "Python program to Check if a Given Key Exists in a Dictionary or Not"
   ]
  },
  {
   "cell_type": "code",
   "execution_count": 4,
   "metadata": {},
   "outputs": [
    {
     "name": "stdout",
     "output_type": "stream",
     "text": [
      "Enter key to check:A\n",
      "key is present and the value of key is:\n",
      "1\n"
     ]
    }
   ],
   "source": [
    "d = {\"A\":1 , \"B\":2 , \"C\":3}\n",
    "key = input(\"Enter key :\")\n",
    "if key in d.keys():\n",
    "    print(\"key is present and the value of key is:\")\n",
    "    print(d[key])\n",
    "else:\n",
    "    print(\"key isn't present in the dictionary:\")"
   ]
  },
  {
   "cell_type": "markdown",
   "metadata": {},
   "source": [
    "# Task # 4\n",
    " \n",
    " Python Program to Generate a Dictionary that contains Numbers (between 1 and n) in the form(x,x*x).\n",
    "\n",
    "# Case  # 1"
   ]
  },
  {
   "cell_type": "code",
   "execution_count": 1,
   "metadata": {},
   "outputs": [
    {
     "name": "stdout",
     "output_type": "stream",
     "text": [
      "Enter a number:8\n",
      "{1: 1, 2: 4, 3: 9, 4: 16, 5: 25, 6: 36, 7: 49, 8: 64}\n"
     ]
    }
   ],
   "source": [
    "n=int(input(\"Enter a number:\"))\n",
    "d={y:y*y for y in range(1,n+1)}\n",
    "print(d)"
   ]
  },
  {
   "cell_type": "markdown",
   "metadata": {},
   "source": [
    "#  Case # 2\n"
   ]
  },
  {
   "cell_type": "code",
   "execution_count": 2,
   "metadata": {},
   "outputs": [
    {
     "name": "stdout",
     "output_type": "stream",
     "text": [
      "Enter a number:4\n",
      "{1: 1, 2: 4, 3: 9, 4: 16}\n"
     ]
    }
   ],
   "source": [
    "n=int(input(\"Enter a number:\"))\n",
    "b={y:y*y for y in range(1,n+1)}\n",
    "print(b)"
   ]
  },
  {
   "cell_type": "markdown",
   "metadata": {},
   "source": [
    "# Task # 5\n",
    "Python Program to Sum All the items in a Dictionary"
   ]
  },
  {
   "cell_type": "code",
   "execution_count": 6,
   "metadata": {},
   "outputs": [
    {
     "name": "stdout",
     "output_type": "stream",
     "text": [
      "Total sum of values in Dictionary\n",
      "170\n"
     ]
    }
   ],
   "source": [
    "Dict = {\"A\":15 , \"B\":45 , \"C\":35 , \"D\":75}\n",
    "total_sum = sum(Dict.values())\n",
    "print(\"Total sum of values in Dictionary\")\n",
    "print(total_sum)"
   ]
  },
  {
   "cell_type": "markdown",
   "metadata": {},
   "source": [
    "# Task # 6\n",
    "Python Program to Multiply All the items in Dictionary"
   ]
  },
  {
   "cell_type": "code",
   "execution_count": 9,
   "metadata": {},
   "outputs": [
    {
     "name": "stdout",
     "output_type": "stream",
     "text": [
      "The multiplication of all items is:\n",
      "1771875\n"
     ]
    }
   ],
   "source": [
    "Dict = {\"A\":15 , \"B\":45 , \"C\":35 , \"D\":75}\n",
    "tot = 1\n",
    "for i in Dict:\n",
    "    tot = tot*Dict[i]\n",
    "print(\"The multiplication of all items is:\")\n",
    "print(tot)"
   ]
  },
  {
   "cell_type": "markdown",
   "metadata": {},
   "source": [
    "# Task # 7\n",
    "\n",
    "Python Program to Remove the Given key from a Dictionary\n",
    "\n",
    "# Case # 1"
   ]
  },
  {
   "cell_type": "code",
   "execution_count": 10,
   "metadata": {},
   "outputs": [
    {
     "name": "stdout",
     "output_type": "stream",
     "text": [
      "Initial Dictionary\n",
      "{'A': 25, 'B': 40, 'C': 55, 'D': 60}\n",
      "Enter a key to delete(A-D):B\n",
      "Upgraded Dictionary\n",
      "{'A': 25, 'C': 55, 'D': 60}\n"
     ]
    }
   ],
   "source": [
    "Dict = {\"A\":25 , \"B\":40 , \"C\":55 , \"D\":60}\n",
    "print(\"Initial Dictionary\")\n",
    "print(Dict)\n",
    "key = input(\"Enter a key to delete(A-D):\")\n",
    "if key in Dict:\n",
    "    del Dict[key]\n",
    "else:\n",
    "    print(\"key not found\")\n",
    "    exit(0)\n",
    "print(\"Upgraded Dictionary\")\n",
    "print(Dict)"
   ]
  },
  {
   "cell_type": "markdown",
   "metadata": {},
   "source": [
    "# Case # 2"
   ]
  },
  {
   "cell_type": "code",
   "execution_count": 12,
   "metadata": {},
   "outputs": [
    {
     "name": "stdout",
     "output_type": "stream",
     "text": [
      "Initial Dictionary\n",
      "{'A': 25, 'B': 40, 'C': 55, 'D': 60}\n",
      "Enter a key to delete(A-D):F\n",
      "key not found\n",
      "Upgraded Dictionary\n",
      "{'A': 25, 'B': 40, 'C': 55, 'D': 60}\n"
     ]
    }
   ],
   "source": [
    "Dict = {\"A\":25 , \"B\":40 , \"C\":55 , \"D\":60}\n",
    "print(\"Initial Dictionary\")\n",
    "print(Dict)\n",
    "key = input(\"Enter a key to delete(A-D):\")\n",
    "if key in Dict:\n",
    "    del Dict[key]\n",
    "else:\n",
    "    print(\"key not found\")\n",
    "    exit(0)\n",
    "print(\"Upgraded Dictionary\")\n",
    "print(Dict)"
   ]
  },
  {
   "cell_type": "markdown",
   "metadata": {},
   "source": [
    "# Task # 8\n",
    "Python Program to Map Two Lists into a Dictionary\n",
    "\n",
    "# Case # 1"
   ]
  },
  {
   "cell_type": "code",
   "execution_count": 1,
   "metadata": {},
   "outputs": [
    {
     "name": "stdout",
     "output_type": "stream",
     "text": [
      "Enter number of elements for dictionary2\n",
      "For keys\n",
      "Enter Element1:1\n",
      "Enter Element2:2\n",
      "For values\n",
      "Enter Element1:3\n",
      "Enter Element2:4\n",
      "The Dictionary is:\n",
      "{1: 3, 2: 4}\n"
     ]
    }
   ],
   "source": [
    "keys = []\n",
    "values = []\n",
    "n = int(input(\"Enter number of elements for dictionary\"))\n",
    "print(\"For keys\")\n",
    "for x in range(0,n):\n",
    "    element=int(input(\"Enter Element\" + str(x+1) + \":\"))\n",
    "    keys.append(element)\n",
    "print(\"For values\")\n",
    "for x in range(0,n):\n",
    "    element=int(input(\"Enter Element\" + str(x+1) + \":\"))\n",
    "    values.append(element)\n",
    "d = dict(zip(keys,values))\n",
    "print(\"The Dictionary is:\")\n",
    "print(d)"
   ]
  },
  {
   "cell_type": "markdown",
   "metadata": {},
   "source": [
    "# Task # 9\n",
    "Python Program to Count the Frequency of Words Appearing in a String Using a Dictionary\n",
    "\n",
    "# Case # 1"
   ]
  },
  {
   "cell_type": "code",
   "execution_count": 2,
   "metadata": {},
   "outputs": [
    {
     "name": "stdout",
     "output_type": "stream",
     "text": [
      "Enter String:Hello World\n",
      "{'Hello': 1, 'World': 1}\n"
     ]
    }
   ],
   "source": [
    "str = input(\"Enter String:\")\n",
    "l = []\n",
    "l = str.split()\n",
    "wordfreq = [l.count(p) for p in l]\n",
    "print(dict(zip(l,wordfreq)))"
   ]
  },
  {
   "cell_type": "markdown",
   "metadata": {},
   "source": [
    "# Task # 10\n",
    "\n",
    "Python Program to Create a Dictionary with key as First Character and Value as Words Starting with tha Character\n",
    "\n",
    "# Case # 1"
   ]
  },
  {
   "cell_type": "code",
   "execution_count": 5,
   "metadata": {},
   "outputs": [
    {
     "name": "stdout",
     "output_type": "stream",
     "text": [
      "Enter String:Hello Word . I am Pakistani and proud to be Pakistani\n",
      "H : ['Hello']\n",
      "H : ['Hello']\n",
      "W : ['Word']\n",
      "H : ['Hello']\n",
      "W : ['Word']\n",
      ". : ['.']\n",
      "H : ['Hello']\n",
      "W : ['Word']\n",
      ". : ['.']\n",
      "I : ['I']\n",
      "H : ['Hello']\n",
      "W : ['Word']\n",
      ". : ['.']\n",
      "I : ['I']\n",
      "a : ['am']\n",
      "H : ['Hello']\n",
      "W : ['Word']\n",
      ". : ['.']\n",
      "I : ['I']\n",
      "a : ['am']\n",
      "P : ['Pakistani']\n",
      "H : ['Hello']\n",
      "W : ['Word']\n",
      ". : ['.']\n",
      "I : ['I']\n",
      "a : ['am', 'and']\n",
      "P : ['Pakistani']\n",
      "H : ['Hello']\n",
      "W : ['Word']\n",
      ". : ['.']\n",
      "I : ['I']\n",
      "a : ['am', 'and']\n",
      "P : ['Pakistani']\n",
      "p : ['proud']\n",
      "H : ['Hello']\n",
      "W : ['Word']\n",
      ". : ['.']\n",
      "I : ['I']\n",
      "a : ['am', 'and']\n",
      "P : ['Pakistani']\n",
      "p : ['proud']\n",
      "t : ['to']\n",
      "H : ['Hello']\n",
      "W : ['Word']\n",
      ". : ['.']\n",
      "I : ['I']\n",
      "a : ['am', 'and']\n",
      "P : ['Pakistani']\n",
      "p : ['proud']\n",
      "t : ['to']\n",
      "b : ['be']\n",
      "H : ['Hello']\n",
      "W : ['Word']\n",
      ". : ['.']\n",
      "I : ['I']\n",
      "a : ['am', 'and']\n",
      "P : ['Pakistani']\n",
      "p : ['proud']\n",
      "t : ['to']\n",
      "b : ['be']\n"
     ]
    }
   ],
   "source": [
    "str = input(\"Enter String:\")\n",
    "l = str.split()\n",
    "d = {}\n",
    "for word in l:\n",
    "    if (word[0] not in d.keys()):\n",
    "        d[word[0]]=[]\n",
    "        d[word[0]].append(word)\n",
    "    else:\n",
    "        if(word not in d[word[0]]):\n",
    "         d[word[0]].append(word)\n",
    "    for k,v in d.items():\n",
    "        print(k,\":\",v)"
   ]
  },
  {
   "cell_type": "raw",
   "metadata": {},
   "source": [
    "I am an Electrical Engineer. I am Fully satisfied with my field. \n"
   ]
  },
  {
   "cell_type": "code",
   "execution_count": null,
   "metadata": {},
   "outputs": [],
   "source": []
  }
 ],
 "metadata": {
  "kernelspec": {
   "display_name": "Python 3",
   "language": "python",
   "name": "python3"
  },
  "language_info": {
   "codemirror_mode": {
    "name": "ipython",
    "version": 3
   },
   "file_extension": ".py",
   "mimetype": "text/x-python",
   "name": "python",
   "nbconvert_exporter": "python",
   "pygments_lexer": "ipython3",
   "version": "3.7.4"
  }
 },
 "nbformat": 4,
 "nbformat_minor": 2
}
