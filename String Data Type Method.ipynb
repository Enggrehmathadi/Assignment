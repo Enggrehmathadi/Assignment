{
 "cells": [
  {
   "cell_type": "markdown",
   "metadata": {},
   "source": [
    "# STRING DATA TYPES\n",
    "\n",
    "# Class of 12:15-3:15\n"
   ]
  },
  {
   "cell_type": "code",
   "execution_count": 1,
   "metadata": {},
   "outputs": [
    {
     "data": {
      "text/plain": [
       "['__add__',\n",
       " '__class__',\n",
       " '__contains__',\n",
       " '__delattr__',\n",
       " '__dir__',\n",
       " '__doc__',\n",
       " '__eq__',\n",
       " '__format__',\n",
       " '__ge__',\n",
       " '__getattribute__',\n",
       " '__getitem__',\n",
       " '__getnewargs__',\n",
       " '__gt__',\n",
       " '__hash__',\n",
       " '__init__',\n",
       " '__init_subclass__',\n",
       " '__iter__',\n",
       " '__le__',\n",
       " '__len__',\n",
       " '__lt__',\n",
       " '__mod__',\n",
       " '__mul__',\n",
       " '__ne__',\n",
       " '__new__',\n",
       " '__reduce__',\n",
       " '__reduce_ex__',\n",
       " '__repr__',\n",
       " '__rmod__',\n",
       " '__rmul__',\n",
       " '__setattr__',\n",
       " '__sizeof__',\n",
       " '__str__',\n",
       " '__subclasshook__',\n",
       " 'capitalize',\n",
       " 'casefold',\n",
       " 'center',\n",
       " 'count',\n",
       " 'encode',\n",
       " 'endswith',\n",
       " 'expandtabs',\n",
       " 'find',\n",
       " 'format',\n",
       " 'format_map',\n",
       " 'index',\n",
       " 'isalnum',\n",
       " 'isalpha',\n",
       " 'isascii',\n",
       " 'isdecimal',\n",
       " 'isdigit',\n",
       " 'isidentifier',\n",
       " 'islower',\n",
       " 'isnumeric',\n",
       " 'isprintable',\n",
       " 'isspace',\n",
       " 'istitle',\n",
       " 'isupper',\n",
       " 'join',\n",
       " 'ljust',\n",
       " 'lower',\n",
       " 'lstrip',\n",
       " 'maketrans',\n",
       " 'partition',\n",
       " 'replace',\n",
       " 'rfind',\n",
       " 'rindex',\n",
       " 'rjust',\n",
       " 'rpartition',\n",
       " 'rsplit',\n",
       " 'rstrip',\n",
       " 'split',\n",
       " 'splitlines',\n",
       " 'startswith',\n",
       " 'strip',\n",
       " 'swapcase',\n",
       " 'title',\n",
       " 'translate',\n",
       " 'upper',\n",
       " 'zfill']"
      ]
     },
     "execution_count": 1,
     "metadata": {},
     "output_type": "execute_result"
    }
   ],
   "source": [
    "name = \"Engr.Rehmat Hadi\"\n",
    "dir(name)"
   ]
  },
  {
   "cell_type": "code",
   "execution_count": 3,
   "metadata": {},
   "outputs": [
    {
     "name": "stdout",
     "output_type": "stream",
     "text": [
      "engr.rehmat hadi\n"
     ]
    }
   ],
   "source": [
    "#Alpahbet of string to lower-case\n",
    "name = \"Engr.Rehmat Hadi\"\n",
    "print(name.casefold())\n"
   ]
  },
  {
   "cell_type": "code",
   "execution_count": 4,
   "metadata": {},
   "outputs": [
    {
     "name": "stdout",
     "output_type": "stream",
     "text": [
      "Engr.rehmat hadi\n"
     ]
    }
   ],
   "source": [
    "#capitialize  First alphabet of string\n",
    "name = \"Engr.Rehmat Hadi\"\n",
    "print(name.capitalize())"
   ]
  },
  {
   "cell_type": "code",
   "execution_count": 6,
   "metadata": {},
   "outputs": [
    {
     "name": "stdout",
     "output_type": "stream",
     "text": [
      "                      Engr.Rehmat Hadi                      \n"
     ]
    }
   ],
   "source": [
    "#Space 60 white space-character in the string from left to right\n",
    "name = \"Engr.Rehmat Hadi\"\n",
    "print(name.center(60))"
   ]
  },
  {
   "cell_type": "code",
   "execution_count": 9,
   "metadata": {},
   "outputs": [
    {
     "name": "stdout",
     "output_type": "stream",
     "text": [
      "1\n"
     ]
    }
   ],
   "source": [
    "#Counts of specific alphabet & print the  total amount of  alphabet which is repeated in the string\n",
    "\n",
    "name = \"Engr.Rehmat Hadi\"\n",
    "print(name.count('t'))"
   ]
  },
  {
   "cell_type": "code",
   "execution_count": 10,
   "metadata": {},
   "outputs": [
    {
     "name": "stdout",
     "output_type": "stream",
     "text": [
      "b'Engr.Rehmat Hadi'\n"
     ]
    }
   ],
   "source": [
    "name = \"Engr.Rehmat Hadi\"\n",
    "print(name.encode())"
   ]
  },
  {
   "cell_type": "code",
   "execution_count": 11,
   "metadata": {},
   "outputs": [
    {
     "name": "stdout",
     "output_type": "stream",
     "text": [
      "Engr.Rehmat Hadi\n"
     ]
    }
   ],
   "source": [
    "name = \"Engr.Rehmat Hadi\"\n",
    "print(name.title())"
   ]
  },
  {
   "cell_type": "code",
   "execution_count": 12,
   "metadata": {},
   "outputs": [
    {
     "name": "stdout",
     "output_type": "stream",
     "text": [
      "True\n",
      "False\n"
     ]
    }
   ],
   "source": [
    "name = \"Engr.Rehmat Hadi\"\n",
    "print(name.endswith('i'))# Returns the bool value true or false after comparing with last alphabet of string\n",
    "name = \"usama shahzad\"\n",
    "print(name.endswith('a')) # Returns false bcz ending alphabet is not \"d\""
   ]
  },
  {
   "cell_type": "code",
   "execution_count": 13,
   "metadata": {},
   "outputs": [
    {
     "name": "stdout",
     "output_type": "stream",
     "text": [
      "Engr.Rehmat Hadi\n"
     ]
    }
   ],
   "source": [
    "name = \"Engr.Rehmat Hadi\"\n",
    "print(name.expandtabs(5))#it gives the space between the character of string default size is 8"
   ]
  },
  {
   "cell_type": "code",
   "execution_count": 14,
   "metadata": {},
   "outputs": [
    {
     "name": "stdout",
     "output_type": "stream",
     "text": [
      "14\n"
     ]
    }
   ],
   "source": [
    "name = \"Engr.Rehmat Hadi\"\n",
    "print(name.find('d'))#Tells the index number of a specific character in string"
   ]
  },
  {
   "cell_type": "code",
   "execution_count": 15,
   "metadata": {},
   "outputs": [
    {
     "name": "stdout",
     "output_type": "stream",
     "text": [
      "\n",
      "name = Engr.Rehmat Hadi\n",
      "father_name = Javed Iqbal\n",
      "program = AI\n",
      "\n",
      "\n",
      "name = AI\n",
      "father_name = Engr.Rehmat Hadi\n",
      "program = Javed Iqbal\n",
      "\n"
     ]
    }
   ],
   "source": [
    "name = \"Engr.Rehmat Hadi\"\n",
    "father_name = \"Javed Iqbal\"\n",
    "program=\"AI\"\n",
    "\n",
    "card= \"\"\"\n",
    "name = {}\n",
    "father_name = {}\n",
    "program = {}\n",
    "\"\"\"\n",
    "print(card.format(name,father_name,program))#Format to print the string sequence according to our desire or wish\n",
    "print(card.format(program,name,father_name))#Changed the sequence of the string according to choice"
   ]
  },
  {
   "cell_type": "code",
   "execution_count": 16,
   "metadata": {},
   "outputs": [
    {
     "name": "stdout",
     "output_type": "stream",
     "text": [
      "Engr.Rehmat Hadi\n",
      "10 4\n"
     ]
    }
   ],
   "source": [
    "name={\"first_name\":\"Engr.Rehmat\",\"last_name\":\"Hadi\"}\n",
    "print(\"{first_name} {last_name}\".format_map(name))#Map the element of string together\n",
    "name={\"first_number\":10,\"last_number\":4}\n",
    "print(\"{first_number} {last_number}\".format_map(name))#Map the element of string together"
   ]
  },
  {
   "cell_type": "code",
   "execution_count": 18,
   "metadata": {},
   "outputs": [
    {
     "name": "stdout",
     "output_type": "stream",
     "text": [
      "5\n"
     ]
    }
   ],
   "source": [
    "name = \"Engr.Rehmat Hadi\"\n",
    "print(name.index(\"R\"))#Return the index number of a specific character in the string"
   ]
  },
  {
   "cell_type": "code",
   "execution_count": 22,
   "metadata": {},
   "outputs": [
    {
     "name": "stdout",
     "output_type": "stream",
     "text": [
      "False\n",
      "True\n"
     ]
    }
   ],
   "source": [
    "name = \"Engr.Rehmat Hadi\"\n",
    "print(name.isalnum())#Returns bool value true or false after checking that string is alphanumeric or not \n",
    "name=\"rehmathadi345\"\n",
    "print(name.isalnum())"
   ]
  },
  {
   "cell_type": "code",
   "execution_count": 25,
   "metadata": {},
   "outputs": [
    {
     "name": "stdout",
     "output_type": "stream",
     "text": [
      "False\n",
      "True\n"
     ]
    }
   ],
   "source": [
    "name = \"Engr. Rehmat Hadi\"\n",
    "print(name.isalpha())#Returns bool value depends upon the condition that string has white-space-character or not\n",
    "name=\"RehmatHadi\"\n",
    "print(name.isalpha())#Returns false bcz it has one white space character"
   ]
  },
  {
   "cell_type": "code",
   "execution_count": 27,
   "metadata": {},
   "outputs": [
    {
     "name": "stdout",
     "output_type": "stream",
     "text": [
      "True\n",
      "False\n",
      "False\n"
     ]
    }
   ],
   "source": [
    "name=\"Engr.Rehmat Hadi\"\n",
    "print(name.isascii())#Returns true if the string character has ascii values else false\n",
    "name=\"Engr.Rehmat©©®>Π Hadi\"\n",
    "print(name.isascii())\n",
    "name=\"Engr.RehmatΠ Hadi\"\n",
    "print(name.isascii())"
   ]
  },
  {
   "cell_type": "code",
   "execution_count": 28,
   "metadata": {},
   "outputs": [
    {
     "name": "stdout",
     "output_type": "stream",
     "text": [
      "14\n",
      "-1\n"
     ]
    }
   ],
   "source": [
    "name=\"Engr.Rehmat Hadi\"\n",
    "print(name.rfind(\"d\"))\n",
    "print(name.rfind(\"z\"))"
   ]
  },
  {
   "cell_type": "code",
   "execution_count": 30,
   "metadata": {},
   "outputs": [
    {
     "name": "stdout",
     "output_type": "stream",
     "text": [
      "Engr.Rehmat Hadi\n"
     ]
    }
   ],
   "source": [
    "#strip() returns a copy of the string with both leading and trailing characters removed\n",
    "#(based on the string argument passed).\n",
    "name=\"               Engr.Rehmat Hadi               \"\n",
    "print(name.strip())#strip() removes characters from both left and right based on the argument "
   ]
  },
  {
   "cell_type": "code",
   "execution_count": null,
   "metadata": {},
   "outputs": [],
   "source": []
  }
 ],
 "metadata": {
  "kernelspec": {
   "display_name": "Python 3",
   "language": "python",
   "name": "python3"
  },
  "language_info": {
   "codemirror_mode": {
    "name": "ipython",
    "version": 3
   },
   "file_extension": ".py",
   "mimetype": "text/x-python",
   "name": "python",
   "nbconvert_exporter": "python",
   "pygments_lexer": "ipython3",
   "version": "3.7.4"
  }
 },
 "nbformat": 4,
 "nbformat_minor": 2
}
